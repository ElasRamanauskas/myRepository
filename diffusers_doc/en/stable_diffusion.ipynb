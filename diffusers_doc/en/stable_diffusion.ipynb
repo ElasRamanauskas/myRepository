{
  "cells": [
    {
      "cell_type": "markdown",
      "metadata": {
        "id": "0q-w2EY1ZWFR"
      },
      "source": [
        "# Basic performance"
      ]
    },
    {
      "cell_type": "markdown",
      "metadata": {
        "id": "tpvnWK55ZWFW"
      },
      "source": [
        "Diffusion is a random process that is computationally demanding. You may need to run the [DiffusionPipeline](https://huggingface.co/docs/diffusers/main/en/api/pipelines/overview#diffusers.DiffusionPipeline) several times before getting a desired output. That's why it's important to carefully balance generation speed and memory usage in order to iterate faster,\n",
        "\n",
        "This guide recommends some basic performance tips for using the [DiffusionPipeline](https://huggingface.co/docs/diffusers/main/en/api/pipelines/overview#diffusers.DiffusionPipeline). Refer to the Inference Optimization section docs such as [Accelerate inference](https://huggingface.co/docs/diffusers/main/en/./optimization/fp16) or [Reduce memory usage](https://huggingface.co/docs/diffusers/main/en/./optimization/memory) for more detailed performance guides."
      ]
    },
    {
      "cell_type": "markdown",
      "metadata": {
        "id": "ZlrnibN4ZWFX"
      },
      "source": [
        "## Memory usage"
      ]
    },
    {
      "cell_type": "markdown",
      "metadata": {
        "id": "UmfritCuZWFY"
      },
      "source": [
        "Reducing the amount of memory used indirectly speeds up generation and can help a model fit on device.\n",
        "\n",
        "The [enable_model_cpu_offload()](https://huggingface.co/docs/diffusers/main/en/api/pipelines/overview#diffusers.DiffusionPipeline.enable_model_cpu_offload) method moves a model to the CPU when it is not in use to save GPU memory."
      ]
    },
    {
      "cell_type": "code",
      "execution_count": null,
      "metadata": {
        "colab": {
          "base_uri": "https://localhost:8080/",
          "height": 173,
          "referenced_widgets": [
            "901e16aa696f4742b90ea9d4329388fc",
            "26b9cb3e80904da482048e7418f10cd7",
            "5cdfc649a24b45f886e35b8d6c36433a",
            "48ae6f9984634b4d8a9f2cd86166c8a6",
            "1284e343cba0436d8036c2588e396615",
            "ea751f30bf0748ee93a4537243a48fdf",
            "70025e13cd1546d3b3dd92b0775ac05e",
            "46a1902957bc4aec95c73c3d19f16af0",
            "a2c6c814d3bb4c858cf214263513167e",
            "cae78ec756d24b7ab2d823df9e5080b4",
            "92a1bd3f0fe9438e90056aad5171a881"
          ]
        },
        "id": "q-iY26BDZWFY",
        "outputId": "80cb4088-ae75-4e29-e45a-6e8b01a8c826"
      },
      "outputs": [
        {
          "output_type": "stream",
          "name": "stderr",
          "text": [
            "/usr/local/lib/python3.12/dist-packages/huggingface_hub/utils/_auth.py:94: UserWarning: \n",
            "The secret `HF_TOKEN` does not exist in your Colab secrets.\n",
            "To authenticate with the Hugging Face Hub, create a token in your settings tab (https://huggingface.co/settings/tokens), set it as secret in your Google Colab and restart your session.\n",
            "You will be able to reuse this secret in all of your notebooks.\n",
            "Please note that authentication is recommended but still optional to access public models or datasets.\n",
            "  warnings.warn(\n"
          ]
        },
        {
          "output_type": "display_data",
          "data": {
            "text/plain": [
              "Loading pipeline components...:   0%|          | 0/7 [00:00<?, ?it/s]"
            ],
            "application/vnd.jupyter.widget-view+json": {
              "version_major": 2,
              "version_minor": 0,
              "model_id": "901e16aa696f4742b90ea9d4329388fc"
            }
          },
          "metadata": {}
        }
      ],
      "source": [
        "import torch\n",
        "from diffusers import DiffusionPipeline\n",
        "\n",
        "pipeline = DiffusionPipeline.from_pretrained(\n",
        "  \"stabilityai/stable-diffusion-xl-base-1.0\",\n",
        "  torch_dtype=torch.bfloat16,\n",
        "  device_map=\"balanced\"\n",
        ")\n",
        "pipeline.enable_model_cpu_offload()\n",
        "\n",
        "prompt = \"\"\"\n",
        "cinematic film still of a cat sipping a margarita in a pool in Palm Springs, California\n",
        "highly detailed, high budget hollywood movie, cinemascope, moody, epic, gorgeous, film grain\n",
        "\"\"\"\n",
        "pipeline(prompt).images[0]\n",
        "print(f\"Max memory reserved: {torch.cuda.max_memory_allocated() / 1024**3:.2f} GB\")"
      ]
    },
    {
      "cell_type": "code",
      "metadata": {
        "id": "80f965fc"
      },
      "source": [
        "!pip install accelerate"
      ],
      "execution_count": null,
      "outputs": []
    },
    {
      "cell_type": "markdown",
      "metadata": {
        "id": "pdbQrmg-ZWFa"
      },
      "source": [
        "## Inference speed"
      ]
    },
    {
      "cell_type": "markdown",
      "metadata": {
        "id": "OX4IIiloZWFa"
      },
      "source": [
        "Denoising is the most computationally demanding process during diffusion. Methods that optimizes this process accelerates inference speed. Try the following methods for a speed up.\n",
        "\n",
        "- Add `device_map=\"cuda\"` to place the pipeline on a GPU. Placing a model on an accelerator, like a GPU, increases speed because it performs computations in parallel.\n",
        "- Set `torch_dtype=torch.bfloat16` to execute the pipeline in half-precision. Reducing the data type precision increases speed because it takes less time to perform computations in a lower precision."
      ]
    },
    {
      "cell_type": "code",
      "execution_count": null,
      "metadata": {
        "id": "FCQI-8QwZWFb"
      },
      "outputs": [],
      "source": [
        "import torch\n",
        "import time\n",
        "from diffusers import DiffusionPipeline, DPMSolverMultistepScheduler\n",
        "\n",
        "pipeline = DiffusionPipeline.from_pretrained(\n",
        "  \"stabilityai/stable-diffusion-xl-base-1.0\",\n",
        "  torch_dtype=torch.bfloat16,\n",
        "  device_map=\"cuda\n",
        ")"
      ]
    },
    {
      "cell_type": "markdown",
      "metadata": {
        "id": "dSuk3V8bZWFb"
      },
      "source": [
        "- Use a faster scheduler, such as [DPMSolverMultistepScheduler](https://huggingface.co/docs/diffusers/main/en/api/schedulers/multistep_dpm_solver#diffusers.DPMSolverMultistepScheduler), which only requires ~20-25 steps.\n",
        "- Set `num_inference_steps` to a lower value. Reducing the number of inference steps reduces the overall number of computations. However, this can result in lower generation quality."
      ]
    },
    {
      "cell_type": "code",
      "execution_count": null,
      "metadata": {
        "id": "Ed5nMdm3ZWFc"
      },
      "outputs": [],
      "source": [
        "pipeline.scheduler = DPMSolverMultistepScheduler.from_config(pipeline.scheduler.config)\n",
        "\n",
        "prompt = \"\"\"\n",
        "cinematic film still of a cat sipping a margarita in a pool in Palm Springs, California\n",
        "highly detailed, high budget hollywood movie, cinemascope, moody, epic, gorgeous, film grain\n",
        "\"\"\"\n",
        "\n",
        "start_time = time.perf_counter()\n",
        "image = pipeline(prompt).images[0]\n",
        "end_time = time.perf_counter()\n",
        "\n",
        "print(f\"Image generation took {end_time - start_time:.3f} seconds\")"
      ]
    },
    {
      "cell_type": "markdown",
      "metadata": {
        "id": "U7S5fTD4ZWFc"
      },
      "source": [
        "## Generation quality"
      ]
    },
    {
      "cell_type": "markdown",
      "metadata": {
        "id": "_txee41VZWFc"
      },
      "source": [
        "Many modern diffusion models deliver high-quality images out-of-the-box. However, you can still improve generation quality by trying the following.\n",
        "\n",
        "- Try a more detailed and descriptive prompt. Include details such as the image medium, subject, style, and aesthetic. A negative prompt may also help by guiding a model away from undesirable features by using words like low quality or blurry.\n",
        "\n",
        "    ```py\n",
        "    import torch\n",
        "    from diffusers import DiffusionPipeline\n",
        "\n",
        "    pipeline = DiffusionPipeline.from_pretrained(\n",
        "        \"stabilityai/stable-diffusion-xl-base-1.0\",\n",
        "        torch_dtype=torch.bfloat16,\n",
        "        device_map=\"cuda\"\n",
        "    )\n",
        "\n",
        "    prompt = \"\"\"\n",
        "    cinematic film still of a cat sipping a margarita in a pool in Palm Springs, California\n",
        "    highly detailed, high budget hollywood movie, cinemascope, moody, epic, gorgeous, film grain\n",
        "    \"\"\"\n",
        "    negative_prompt = \"low quality, blurry, ugly, poor details\"\n",
        "    pipeline(prompt, negative_prompt=negative_prompt).images[0]\n",
        "    ```\n",
        "\n",
        "    For more details about creating better prompts, take a look at the [Prompt techniques](https://huggingface.co/docs/diffusers/main/en/./using-diffusers/weighted_prompts) doc.\n",
        "\n",
        "- Try a different scheduler, like [HeunDiscreteScheduler](https://huggingface.co/docs/diffusers/main/en/api/schedulers/heun#diffusers.HeunDiscreteScheduler) or [LMSDiscreteScheduler](https://huggingface.co/docs/diffusers/main/en/api/schedulers/lms_discrete#diffusers.LMSDiscreteScheduler), that gives up generation speed for quality.\n",
        "\n",
        "    ```py\n",
        "    import torch\n",
        "    from diffusers import DiffusionPipeline, HeunDiscreteScheduler\n",
        "\n",
        "    pipeline = DiffusionPipeline.from_pretrained(\n",
        "        \"stabilityai/stable-diffusion-xl-base-1.0\",\n",
        "        torch_dtype=torch.bfloat16,\n",
        "        device_map=\"cuda\"\n",
        "    )\n",
        "    pipeline.scheduler = HeunDiscreteScheduler.from_config(pipeline.scheduler.config)\n",
        "\n",
        "    prompt = \"\"\"\n",
        "    cinematic film still of a cat sipping a margarita in a pool in Palm Springs, California\n",
        "    highly detailed, high budget hollywood movie, cinemascope, moody, epic, gorgeous, film grain\n",
        "    \"\"\"\n",
        "    negative_prompt = \"low quality, blurry, ugly, poor details\"\n",
        "    pipeline(prompt, negative_prompt=negative_prompt).images[0]\n",
        "    ```"
      ]
    },
    {
      "cell_type": "markdown",
      "metadata": {
        "id": "rdNdLG3xZWFd"
      },
      "source": [
        "## Next steps"
      ]
    },
    {
      "cell_type": "markdown",
      "metadata": {
        "id": "91hgIkomZWFd"
      },
      "source": [
        "Diffusers offers more advanced and powerful optimizations such as [group-offloading](https://huggingface.co/docs/diffusers/main/en/./optimization/memory#group-offloading) and [regional compilation](https://huggingface.co/docs/diffusers/main/en/./optimization/fp16#regional-compilation). To learn more about how to maximize performance, take a look at the Inference Optimization section."
      ]
    }
  ],
  "metadata": {
    "colab": {
      "provenance": []
    },
    "language_info": {
      "name": "python"
    },
    "kernelspec": {
      "name": "python3",
      "display_name": "Python 3"
    },
    "widgets": {
      "application/vnd.jupyter.widget-state+json": {
        "901e16aa696f4742b90ea9d4329388fc": {
          "model_module": "@jupyter-widgets/controls",
          "model_name": "HBoxModel",
          "model_module_version": "1.5.0",
          "state": {
            "_dom_classes": [],
            "_model_module": "@jupyter-widgets/controls",
            "_model_module_version": "1.5.0",
            "_model_name": "HBoxModel",
            "_view_count": null,
            "_view_module": "@jupyter-widgets/controls",
            "_view_module_version": "1.5.0",
            "_view_name": "HBoxView",
            "box_style": "",
            "children": [
              "IPY_MODEL_26b9cb3e80904da482048e7418f10cd7",
              "IPY_MODEL_5cdfc649a24b45f886e35b8d6c36433a",
              "IPY_MODEL_48ae6f9984634b4d8a9f2cd86166c8a6"
            ],
            "layout": "IPY_MODEL_1284e343cba0436d8036c2588e396615"
          }
        },
        "26b9cb3e80904da482048e7418f10cd7": {
          "model_module": "@jupyter-widgets/controls",
          "model_name": "HTMLModel",
          "model_module_version": "1.5.0",
          "state": {
            "_dom_classes": [],
            "_model_module": "@jupyter-widgets/controls",
            "_model_module_version": "1.5.0",
            "_model_name": "HTMLModel",
            "_view_count": null,
            "_view_module": "@jupyter-widgets/controls",
            "_view_module_version": "1.5.0",
            "_view_name": "HTMLView",
            "description": "",
            "description_tooltip": null,
            "layout": "IPY_MODEL_ea751f30bf0748ee93a4537243a48fdf",
            "placeholder": "​",
            "style": "IPY_MODEL_70025e13cd1546d3b3dd92b0775ac05e",
            "value": "Loading pipeline components...:  43%"
          }
        },
        "5cdfc649a24b45f886e35b8d6c36433a": {
          "model_module": "@jupyter-widgets/controls",
          "model_name": "FloatProgressModel",
          "model_module_version": "1.5.0",
          "state": {
            "_dom_classes": [],
            "_model_module": "@jupyter-widgets/controls",
            "_model_module_version": "1.5.0",
            "_model_name": "FloatProgressModel",
            "_view_count": null,
            "_view_module": "@jupyter-widgets/controls",
            "_view_module_version": "1.5.0",
            "_view_name": "ProgressView",
            "bar_style": "",
            "description": "",
            "description_tooltip": null,
            "layout": "IPY_MODEL_46a1902957bc4aec95c73c3d19f16af0",
            "max": 7,
            "min": 0,
            "orientation": "horizontal",
            "style": "IPY_MODEL_a2c6c814d3bb4c858cf214263513167e",
            "value": 3
          }
        },
        "48ae6f9984634b4d8a9f2cd86166c8a6": {
          "model_module": "@jupyter-widgets/controls",
          "model_name": "HTMLModel",
          "model_module_version": "1.5.0",
          "state": {
            "_dom_classes": [],
            "_model_module": "@jupyter-widgets/controls",
            "_model_module_version": "1.5.0",
            "_model_name": "HTMLModel",
            "_view_count": null,
            "_view_module": "@jupyter-widgets/controls",
            "_view_module_version": "1.5.0",
            "_view_name": "HTMLView",
            "description": "",
            "description_tooltip": null,
            "layout": "IPY_MODEL_cae78ec756d24b7ab2d823df9e5080b4",
            "placeholder": "​",
            "style": "IPY_MODEL_92a1bd3f0fe9438e90056aad5171a881",
            "value": " 3/7 [00:02&lt;00:02,  1.45it/s]"
          }
        },
        "1284e343cba0436d8036c2588e396615": {
          "model_module": "@jupyter-widgets/base",
          "model_name": "LayoutModel",
          "model_module_version": "1.2.0",
          "state": {
            "_model_module": "@jupyter-widgets/base",
            "_model_module_version": "1.2.0",
            "_model_name": "LayoutModel",
            "_view_count": null,
            "_view_module": "@jupyter-widgets/base",
            "_view_module_version": "1.2.0",
            "_view_name": "LayoutView",
            "align_content": null,
            "align_items": null,
            "align_self": null,
            "border": null,
            "bottom": null,
            "display": null,
            "flex": null,
            "flex_flow": null,
            "grid_area": null,
            "grid_auto_columns": null,
            "grid_auto_flow": null,
            "grid_auto_rows": null,
            "grid_column": null,
            "grid_gap": null,
            "grid_row": null,
            "grid_template_areas": null,
            "grid_template_columns": null,
            "grid_template_rows": null,
            "height": null,
            "justify_content": null,
            "justify_items": null,
            "left": null,
            "margin": null,
            "max_height": null,
            "max_width": null,
            "min_height": null,
            "min_width": null,
            "object_fit": null,
            "object_position": null,
            "order": null,
            "overflow": null,
            "overflow_x": null,
            "overflow_y": null,
            "padding": null,
            "right": null,
            "top": null,
            "visibility": null,
            "width": null
          }
        },
        "ea751f30bf0748ee93a4537243a48fdf": {
          "model_module": "@jupyter-widgets/base",
          "model_name": "LayoutModel",
          "model_module_version": "1.2.0",
          "state": {
            "_model_module": "@jupyter-widgets/base",
            "_model_module_version": "1.2.0",
            "_model_name": "LayoutModel",
            "_view_count": null,
            "_view_module": "@jupyter-widgets/base",
            "_view_module_version": "1.2.0",
            "_view_name": "LayoutView",
            "align_content": null,
            "align_items": null,
            "align_self": null,
            "border": null,
            "bottom": null,
            "display": null,
            "flex": null,
            "flex_flow": null,
            "grid_area": null,
            "grid_auto_columns": null,
            "grid_auto_flow": null,
            "grid_auto_rows": null,
            "grid_column": null,
            "grid_gap": null,
            "grid_row": null,
            "grid_template_areas": null,
            "grid_template_columns": null,
            "grid_template_rows": null,
            "height": null,
            "justify_content": null,
            "justify_items": null,
            "left": null,
            "margin": null,
            "max_height": null,
            "max_width": null,
            "min_height": null,
            "min_width": null,
            "object_fit": null,
            "object_position": null,
            "order": null,
            "overflow": null,
            "overflow_x": null,
            "overflow_y": null,
            "padding": null,
            "right": null,
            "top": null,
            "visibility": null,
            "width": null
          }
        },
        "70025e13cd1546d3b3dd92b0775ac05e": {
          "model_module": "@jupyter-widgets/controls",
          "model_name": "DescriptionStyleModel",
          "model_module_version": "1.5.0",
          "state": {
            "_model_module": "@jupyter-widgets/controls",
            "_model_module_version": "1.5.0",
            "_model_name": "DescriptionStyleModel",
            "_view_count": null,
            "_view_module": "@jupyter-widgets/base",
            "_view_module_version": "1.2.0",
            "_view_name": "StyleView",
            "description_width": ""
          }
        },
        "46a1902957bc4aec95c73c3d19f16af0": {
          "model_module": "@jupyter-widgets/base",
          "model_name": "LayoutModel",
          "model_module_version": "1.2.0",
          "state": {
            "_model_module": "@jupyter-widgets/base",
            "_model_module_version": "1.2.0",
            "_model_name": "LayoutModel",
            "_view_count": null,
            "_view_module": "@jupyter-widgets/base",
            "_view_module_version": "1.2.0",
            "_view_name": "LayoutView",
            "align_content": null,
            "align_items": null,
            "align_self": null,
            "border": null,
            "bottom": null,
            "display": null,
            "flex": null,
            "flex_flow": null,
            "grid_area": null,
            "grid_auto_columns": null,
            "grid_auto_flow": null,
            "grid_auto_rows": null,
            "grid_column": null,
            "grid_gap": null,
            "grid_row": null,
            "grid_template_areas": null,
            "grid_template_columns": null,
            "grid_template_rows": null,
            "height": null,
            "justify_content": null,
            "justify_items": null,
            "left": null,
            "margin": null,
            "max_height": null,
            "max_width": null,
            "min_height": null,
            "min_width": null,
            "object_fit": null,
            "object_position": null,
            "order": null,
            "overflow": null,
            "overflow_x": null,
            "overflow_y": null,
            "padding": null,
            "right": null,
            "top": null,
            "visibility": null,
            "width": null
          }
        },
        "a2c6c814d3bb4c858cf214263513167e": {
          "model_module": "@jupyter-widgets/controls",
          "model_name": "ProgressStyleModel",
          "model_module_version": "1.5.0",
          "state": {
            "_model_module": "@jupyter-widgets/controls",
            "_model_module_version": "1.5.0",
            "_model_name": "ProgressStyleModel",
            "_view_count": null,
            "_view_module": "@jupyter-widgets/base",
            "_view_module_version": "1.2.0",
            "_view_name": "StyleView",
            "bar_color": null,
            "description_width": ""
          }
        },
        "cae78ec756d24b7ab2d823df9e5080b4": {
          "model_module": "@jupyter-widgets/base",
          "model_name": "LayoutModel",
          "model_module_version": "1.2.0",
          "state": {
            "_model_module": "@jupyter-widgets/base",
            "_model_module_version": "1.2.0",
            "_model_name": "LayoutModel",
            "_view_count": null,
            "_view_module": "@jupyter-widgets/base",
            "_view_module_version": "1.2.0",
            "_view_name": "LayoutView",
            "align_content": null,
            "align_items": null,
            "align_self": null,
            "border": null,
            "bottom": null,
            "display": null,
            "flex": null,
            "flex_flow": null,
            "grid_area": null,
            "grid_auto_columns": null,
            "grid_auto_flow": null,
            "grid_auto_rows": null,
            "grid_column": null,
            "grid_gap": null,
            "grid_row": null,
            "grid_template_areas": null,
            "grid_template_columns": null,
            "grid_template_rows": null,
            "height": null,
            "justify_content": null,
            "justify_items": null,
            "left": null,
            "margin": null,
            "max_height": null,
            "max_width": null,
            "min_height": null,
            "min_width": null,
            "object_fit": null,
            "object_position": null,
            "order": null,
            "overflow": null,
            "overflow_x": null,
            "overflow_y": null,
            "padding": null,
            "right": null,
            "top": null,
            "visibility": null,
            "width": null
          }
        },
        "92a1bd3f0fe9438e90056aad5171a881": {
          "model_module": "@jupyter-widgets/controls",
          "model_name": "DescriptionStyleModel",
          "model_module_version": "1.5.0",
          "state": {
            "_model_module": "@jupyter-widgets/controls",
            "_model_module_version": "1.5.0",
            "_model_name": "DescriptionStyleModel",
            "_view_count": null,
            "_view_module": "@jupyter-widgets/base",
            "_view_module_version": "1.2.0",
            "_view_name": "StyleView",
            "description_width": ""
          }
        }
      }
    }
  },
  "nbformat": 4,
  "nbformat_minor": 0
}